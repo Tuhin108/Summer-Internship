{
  "nbformat": 4,
  "nbformat_minor": 0,
  "metadata": {
    "colab": {
      "provenance": []
    },
    "kernelspec": {
      "name": "python3",
      "display_name": "Python 3"
    },
    "language_info": {
      "name": "python"
    }
  },
  "cells": [
    {
      "cell_type": "markdown",
      "source": [
        "# Guess The Number Game using Python Programming [MINI PROJECT]"
      ],
      "metadata": {
        "id": "cr64MzLAE2CD"
      }
    },
    {
      "cell_type": "code",
      "execution_count": 3,
      "metadata": {
        "colab": {
          "base_uri": "https://localhost:8080/"
        },
        "id": "QROQEsrpBtwp",
        "outputId": "bc1cc2ec-431d-45ae-af3a-0a895922ae45"
      },
      "outputs": [
        {
          "output_type": "stream",
          "name": "stdout",
          "text": [
            "Enter Lower bound:- 1\n",
            "Enter Upper bound:- 100\n",
            "\n",
            "\tYou've only  7  chances to guess the !\n",
            "\n",
            "Guess a number:- 50\n",
            "You guessed too small!\n",
            "Guess a number:- 75\n",
            "You guessed too small!\n",
            "Guess a number:- 85\n",
            "You guessed too small!\n",
            "Guess a number:- 95\n",
            "Congratulations!!! You did it in  4  try only\n"
          ]
        }
      ],
      "source": [
        "import random\n",
        "import math\n",
        "\n",
        "lower = int(input(\"Enter Lower bound:- \"))\n",
        "upper = int(input(\"Enter Upper bound:- \"))\n",
        "\n",
        "x = random.randint(lower, upper)\n",
        "print(\"\\n\\tYou've only \",\n",
        "\tround(math.log(upper - lower + 1, 2)),\n",
        "\t\" chances to guess the !\\n\")\n",
        "\n",
        "count = 0\n",
        "\n",
        "while count < math.log(upper - lower + 1, 2):\n",
        "\tcount += 1\n",
        "\n",
        "\tguess = int(input(\"Guess a number:- \"))\n",
        "\n",
        "\tif x == guess:\n",
        "\t\tprint(\"Congratulations!!! You did it in \",\n",
        "\t\t\tcount, \" try only\")\n",
        "\t\tbreak\n",
        "\n",
        "\telif x > guess:\n",
        "\t\tprint(\"You guessed too small!\")\n",
        "\telif x < guess:\n",
        "\t\tprint(\"You Guessed too high!\")\n",
        "\n",
        "if count >= math.log(upper - lower + 1, 2):\n",
        "\tprint(\"\\nThe number is %d\" % x)\n",
        "\tprint(\"\\tBetter Luck Next time!\")\n",
        "\n"
      ]
    }
  ]
}