{
  "nbformat": 4,
  "nbformat_minor": 0,
  "metadata": {
    "colab": {
      "provenance": []
    },
    "kernelspec": {
      "name": "python3",
      "display_name": "Python 3"
    },
    "language_info": {
      "name": "python"
    }
  },
  "cells": [
    {
      "cell_type": "markdown",
      "source": [
        "**PYTHON ASSIGNMENT.**"
      ],
      "metadata": {
        "id": "BPy741wNZUsU"
      }
    },
    {
      "cell_type": "markdown",
      "source": [
        "# Count the number of perfect square numbers in a given range, range is take as input from user"
      ],
      "metadata": {
        "id": "PoBxtdGuZihV"
      }
    },
    {
      "cell_type": "code",
      "source": [
        "def count_perfect_squares(a, b):\n",
        "  count = 0\n",
        "  i = 1\n",
        "  while i * i <= b:\n",
        "    if i * i >= a:\n",
        "      count += 1\n",
        "    i += 1\n",
        "  return count\n",
        "\n",
        "lower_bound = int(input(\"Enter the lower bound of the range: \"))\n",
        "upper_bound = int(input(\"Enter the upper bound of the range: \"))\n",
        "\n",
        "number_of_perfect_squares = count_perfect_squares(lower_bound, upper_bound)\n",
        "\n",
        "print(f\"There are {number_of_perfect_squares} perfect squares between {lower_bound} and {upper_bound}.\")\n"
      ],
      "metadata": {
        "colab": {
          "base_uri": "https://localhost:8080/"
        },
        "id": "3WwsTYO1XT9z",
        "outputId": "c85db0fa-1f50-4ec1-b17e-548a36e9c90a"
      },
      "execution_count": 3,
      "outputs": [
        {
          "output_type": "stream",
          "name": "stdout",
          "text": [
            "Enter the lower bound of the range: 1\n",
            "Enter the upper bound of the range: 100\n",
            "There are 10 perfect squares between 1 and 100.\n"
          ]
        }
      ]
    },
    {
      "cell_type": "markdown",
      "source": [
        "# Write a python program to generate the following pattern\n"
      ],
      "metadata": {
        "id": "nKbWgTIfaTl8"
      }
    },
    {
      "cell_type": "code",
      "source": [
        "n = 5\n",
        "for a1 in range (0,n):\n",
        "    for a2 in range (a1):\n",
        "        print(\"*\", end=\"\")\n",
        "    print()\n",
        "\n",
        "for a1 in range (n,0,-1):\n",
        "    for a2 in range (a1):\n",
        "        print(\"*\", end=\"\")\n",
        "    print()"
      ],
      "metadata": {
        "colab": {
          "base_uri": "https://localhost:8080/"
        },
        "id": "XC70eZV3ZgK1",
        "outputId": "ae16fb9d-cc22-4546-c47e-f9eb2402ddef"
      },
      "execution_count": 9,
      "outputs": [
        {
          "output_type": "stream",
          "name": "stdout",
          "text": [
            "\n",
            "*\n",
            "**\n",
            "***\n",
            "****\n",
            "*****\n",
            "****\n",
            "***\n",
            "**\n",
            "*\n"
          ]
        }
      ]
    },
    {
      "cell_type": "markdown",
      "source": [
        "# Take a number as input from user and display whether it is prime or not"
      ],
      "metadata": {
        "id": "KpPBvD2Wa_u7"
      }
    },
    {
      "cell_type": "code",
      "source": [
        "def is_prime(num):\n",
        "\n",
        "  if num <= 1:\n",
        "    return False\n",
        "  for i in range(2, int(num**0.5) + 1):\n",
        "    if num % i == 0:\n",
        "      return False\n",
        "  return True\n",
        "number = int(input(\"Enter a number: \"))\n",
        "\n",
        "if is_prime(number):\n",
        "  print(f\"{number} is a prime number.\")\n",
        "else:\n",
        "  print(f\"{number} is not a prime number.\")\n"
      ],
      "metadata": {
        "colab": {
          "base_uri": "https://localhost:8080/"
        },
        "id": "m7duZ-d-bA6i",
        "outputId": "48659a80-0fca-4e84-e7ef-2e9b61d862ea"
      },
      "execution_count": 12,
      "outputs": [
        {
          "output_type": "stream",
          "name": "stdout",
          "text": [
            "Enter a number: 2\n",
            "2 is a prime number.\n"
          ]
        }
      ]
    }
  ]
}